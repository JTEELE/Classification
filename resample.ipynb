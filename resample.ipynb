{
 "cells": [
  {
   "cell_type": "markdown",
   "metadata": {
    "tags": []
   },
   "source": [
    "# Credit Risk Resampling Techniques"
   ]
  },
  {
   "cell_type": "code",
   "execution_count": 1,
   "metadata": {},
   "outputs": [
    {
     "name": "stdout",
     "output_type": "stream",
     "text": [
      "loan_size           0\n",
      "interest_rate       0\n",
      "homeowner           0\n",
      "borrower_income     0\n",
      "debt_to_income      0\n",
      "num_of_accounts     0\n",
      "derogatory_marks    0\n",
      "total_debt          0\n",
      "loan_status         0\n",
      "dtype: int64\n",
      "Check: count total variables in X and y datasets:\n",
      "\n",
      "X and y variable counts match without error at 77,536 datasets\n"
     ]
    }
   ],
   "source": [
    "import warnings\n",
    "warnings.filterwarnings('ignore')\n",
    "import numpy as np\n",
    "import pandas as pd\n",
    "from pathlib import Path\n",
    "from sklearn.linear_model import LogisticRegression\n",
    "from collections import Counter\n",
    "from sklearn.metrics import balanced_accuracy_score\n",
    "from sklearn.preprocessing import StandardScaler\n",
    "from sklearn.metrics import confusion_matrix\n",
    "from imblearn.combine import SMOTEENN\n",
    "from sklearn.model_selection import train_test_split\n",
    "from imblearn.metrics import classification_report_imbalanced\n",
    "from imblearn.over_sampling import RandomOverSampler\n",
    "from imblearn.over_sampling import SMOTE\n",
    "file_path = Path('Data/lending_data.csv')\n",
    "df = pd.read_csv(file_path)\n",
    "print(df.isnull().sum())\n",
    "# Create features based on home ownership\n",
    "# Transform homeowner column\n",
    "def changehomeowner(homeowner):\n",
    "    if homeowner == \"own\":\n",
    "        return 0\n",
    "    else:\n",
    "        return 1\n",
    "# Create features based on loan status  \n",
    "def loan_status(loan_status):\n",
    "    if loan_status == \"low_risk\":\n",
    "        return 0\n",
    "    else:\n",
    "        return 1\n",
    "df[\"homeowner\"] = df[\"homeowner\"].apply(changehomeowner)\n",
    "df[\"loan_status\"] = df[\"loan_status\"].apply(loan_status)\n",
    "x_cols = [i for i in df.columns if i not in ('loan_status')]\n",
    "X = df[x_cols]\n",
    "y = df['loan_status']\n",
    "y.value_counts()\n",
    "print('Check: count total variables in X and y datasets:')\n",
    "def population_check(X,y):\n",
    "    count = \"{:,}\".format(len(X))\n",
    "    if len(X) == len(y):\n",
    "        print(f'X and y variable counts match without error at {count} datasets')\n",
    "    else:\n",
    "        print('ERROR, recheck X and y variable counts..')\n",
    "print('')\n",
    "population_check(X,y)"
   ]
  },
  {
   "cell_type": "code",
   "execution_count": 2,
   "metadata": {},
   "outputs": [
    {
     "name": "stdout",
     "output_type": "stream",
     "text": [
      "Check x & y axis counts to ensure datasets are complete\n",
      "\n",
      "X_train has a shape of (58152, 8)\n",
      "\n",
      "X_test has a shape of (19384, 8)\n",
      "\n",
      "y_train has a shape of (58152,)\n",
      "\n",
      "y_test has a shape of (19384,)\n"
     ]
    }
   ],
   "source": [
    "# Create X_train, X_test, y_train, y_test\n",
    "X_train, X_test, y_train, y_test = train_test_split(X,\n",
    "                                                    y,\n",
    "                                                    random_state=1,\n",
    "                                                    stratify=y)\n",
    "#Scale the data\n",
    "scaler = StandardScaler()\n",
    "X_scaler = scaler.fit(X_train)\n",
    "X_train_scaled = X_scaler.transform(X_train)\n",
    "X_test_scaled = X_scaler.transform(X_test)\n",
    "print('Check x & y axis counts to ensure datasets are complete')\n",
    "print('')\n",
    "print(f'X_train has a shape of {X_train.shape}')\n",
    "print('')\n",
    "print(f'X_test has a shape of {X_test.shape}')\n",
    "print('')\n",
    "print(f'y_train has a shape of {y_train.shape}')\n",
    "print('')\n",
    "print(f'y_test has a shape of {y_test.shape}')"
   ]
  },
  {
   "cell_type": "markdown",
   "metadata": {},
   "source": [
    "### Simple Logistic Regression"
   ]
  },
  {
   "cell_type": "code",
   "execution_count": 3,
   "metadata": {},
   "outputs": [
    {
     "name": "stdout",
     "output_type": "stream",
     "text": [
      "                   pre       rec       spe        f1       geo       iba       sup\n",
      "\n",
      "          0       0.97      1.00      0.00      0.98      0.00      0.00     18759\n",
      "          1       0.00      0.00      1.00      0.00      0.00      0.00       625\n",
      "\n",
      "avg / total       0.94      0.97      0.03      0.95      0.00      0.00     19384\n",
      "\n"
     ]
    }
   ],
   "source": [
    "model_simple = LogisticRegression(solver='lbfgs', random_state=1)\n",
    "model_simple.fit(X_train_scaled, y_train)\n",
    "# Calculated the balanced accuracy score\n",
    "y_pred = model_simple.predict(X_test)\n",
    "balanced_accuracy_score(y_test, y_pred)\n",
    "# Display the confusion matrix\n",
    "confusion_matrix(y_test, y_pred)\n",
    "# Print the imbalanced classification report\n",
    "print(classification_report_imbalanced(y_test, y_pred))"
   ]
  },
  {
   "cell_type": "markdown",
   "metadata": {},
   "source": [
    "### Naive Random Oversampling"
   ]
  },
  {
   "cell_type": "code",
   "execution_count": 4,
   "metadata": {},
   "outputs": [
    {
     "name": "stdout",
     "output_type": "stream",
     "text": [
      "Confusion Matrix:\n",
      "[[18759     0]\n",
      " [  625     0]]\n",
      "\n",
      "Classification Report:\n",
      "                   pre       rec       spe        f1       geo       iba       sup\n",
      "\n",
      "          0       0.97      1.00      0.00      0.98      0.00      0.00     18759\n",
      "          1       0.00      0.00      1.00      0.00      0.00      0.00       625\n",
      "\n",
      "avg / total       0.94      0.97      0.03      0.95      0.00      0.00     19384\n",
      "\n"
     ]
    }
   ],
   "source": [
    "ros = RandomOverSampler(random_state=1)\n",
    "X_resampled, y_resampled = ros.fit_resample(X_train,y_train)\n",
    "# View the count of target classes with Counter\n",
    "Counter(y_resampled)\n",
    "# Train the Logistic Regression model using the resampled data\n",
    "model_naive = LogisticRegression(solver='lbfgs', random_state=1)\n",
    "model_naive.fit(X_resampled,y_resampled)\n",
    "# Calculated the balanced accuracy score\n",
    "balanced_accuracy_score(y_test,y_pred)\n",
    "print('Confusion Matrix:')\n",
    "print(confusion_matrix(y_test,y_pred))\n",
    "# Print the imbalanced classification report\n",
    "print('')\n",
    "print('Classification Report:')\n",
    "print(classification_report_imbalanced(y_test,y_pred))"
   ]
  },
  {
   "cell_type": "markdown",
   "metadata": {},
   "source": [
    "### SMOTE Oversampling"
   ]
  },
  {
   "cell_type": "code",
   "execution_count": 5,
   "metadata": {},
   "outputs": [
    {
     "name": "stdout",
     "output_type": "stream",
     "text": [
      "                   pre       rec       spe        f1       geo       iba       sup\n",
      "\n",
      "          0       1.00      1.00      1.00      1.00      1.00      0.99     18759\n",
      "          1       0.87      1.00      1.00      0.93      1.00      0.99       625\n",
      "\n",
      "avg / total       1.00      1.00      1.00      1.00      1.00      0.99     19384\n",
      "\n",
      "                   pre       rec       spe        f1       geo       iba       sup\n",
      "\n",
      "          0       1.00      1.00      1.00      1.00      1.00      0.99     18759\n",
      "          1       0.87      1.00      1.00      0.93      1.00      0.99       625\n",
      "\n",
      "avg / total       1.00      1.00      1.00      1.00      1.00      0.99     19384\n",
      "\n"
     ]
    }
   ],
   "source": [
    "# Resample the training data with SMOTE\n",
    "X_resampled, y_resampled = SMOTE(random_state=1, sampling_strategy=1.0).fit_resample(\n",
    "    X_train,y_train\n",
    ")\n",
    "# View the count of target classes with Counter\n",
    "Counter(y_resampled)\n",
    "# Train the Logistic Regression model using the resampled data\n",
    "model_smote = LogisticRegression(solver='lbfgs', random_state=1)\n",
    "model_smote.fit(X_resampled,y_resampled)\n",
    "# Calculated the balanced accuracy score\n",
    "y_pred = model_smote.predict(X_test)\n",
    "balanced_accuracy_score(y_test,y_pred)\n",
    "# Display the confusion matrix\n",
    "confusion_matrix(y_test,y_pred)\n",
    "# Print the imbalanced classification report\n",
    "print(classification_report_imbalanced(y_test,y_pred))\n",
    "# Resample the training data with SMOTEENN\n",
    "smote_enn = SMOTEENN(random_state=0)\n",
    "X_resampled, y_resampled = smote_enn.fit_resample(X,y)\n",
    "# View the count of target classes with Counter\n",
    "Counter(y_resampled)\n",
    "# Train the Logistic Regression model using the resampled data\n",
    "model_combo = LogisticRegression(solver='lbfgs', random_state=1)\n",
    "model_combo.fit(X_resampled,y_resampled)\n",
    "y_pred = model_combo.predict(X_test)\n",
    "# Calculate the balanced accuracy score\n",
    "balanced_accuracy_score(y_test,y_pred)\n",
    "# Display the confusion matrix\n",
    "confusion_matrix(y_test,y_pred)\n",
    "# Print the imbalanced classification report\n",
    "print(classification_report_imbalanced(y_test,y_pred))"
   ]
  },
  {
   "cell_type": "markdown",
   "metadata": {},
   "source": [
    "# Final Questions\n",
    "\n",
    "1. Which model had the best balanced accuracy score?\n",
    "   \n",
    "   SMOTEENN, Cluster Centroids and SMOTE all had the highest balance accuracy score at 99.5%.\n",
    "#\n",
    "\n",
    "2. Which model had the best recall score?\n",
    "   \n",
    "    SMOTE & SMOTEENN had the best recall scores at 100% for both low and high risk loans.\n",
    "#\n",
    "3. Which model had the best geometric mean score?\n",
    "   \n",
    "    SMOTE & SMOTEENN had the best geometric mean scores at 100% for both low and high risk loans.\n"
   ]
  },
  {
   "cell_type": "code",
   "execution_count": null,
   "metadata": {},
   "outputs": [],
   "source": []
  }
 ],
 "metadata": {
  "kernelspec": {
   "display_name": "Python 3 (ipykernel)",
   "language": "python",
   "name": "python3"
  },
  "language_info": {
   "codemirror_mode": {
    "name": "ipython",
    "version": 3
   },
   "file_extension": ".py",
   "mimetype": "text/x-python",
   "name": "python",
   "nbconvert_exporter": "python",
   "pygments_lexer": "ipython3",
   "version": "3.9.7"
  }
 },
 "nbformat": 4,
 "nbformat_minor": 4
}
